{
 "cells": [
  {
   "cell_type": "code",
   "execution_count": 27,
   "id": "d0a78a7e",
   "metadata": {},
   "outputs": [],
   "source": [
    "import pandas as pd\n",
    "import numpy as np\n",
    "\n",
    "books = pd.read_csv('books_cleaned.csv')"
   ]
  },
  {
   "cell_type": "code",
   "execution_count": 2,
   "id": "f1684a2b",
   "metadata": {},
   "outputs": [
    {
     "data": {
      "text/html": [
       "<div>\n",
       "<style scoped>\n",
       "    .dataframe tbody tr th:only-of-type {\n",
       "        vertical-align: middle;\n",
       "    }\n",
       "\n",
       "    .dataframe tbody tr th {\n",
       "        vertical-align: top;\n",
       "    }\n",
       "\n",
       "    .dataframe thead th {\n",
       "        text-align: right;\n",
       "    }\n",
       "</style>\n",
       "<table border=\"1\" class=\"dataframe\">\n",
       "  <thead>\n",
       "    <tr style=\"text-align: right;\">\n",
       "      <th></th>\n",
       "      <th>categories</th>\n",
       "      <th>count</th>\n",
       "    </tr>\n",
       "  </thead>\n",
       "  <tbody>\n",
       "    <tr>\n",
       "      <th>0</th>\n",
       "      <td>Fiction</td>\n",
       "      <td>2111</td>\n",
       "    </tr>\n",
       "    <tr>\n",
       "      <th>1</th>\n",
       "      <td>Juvenile Fiction</td>\n",
       "      <td>390</td>\n",
       "    </tr>\n",
       "    <tr>\n",
       "      <th>2</th>\n",
       "      <td>Biography &amp; Autobiography</td>\n",
       "      <td>311</td>\n",
       "    </tr>\n",
       "    <tr>\n",
       "      <th>3</th>\n",
       "      <td>History</td>\n",
       "      <td>207</td>\n",
       "    </tr>\n",
       "    <tr>\n",
       "      <th>4</th>\n",
       "      <td>Literary Criticism</td>\n",
       "      <td>124</td>\n",
       "    </tr>\n",
       "  </tbody>\n",
       "</table>\n",
       "</div>"
      ],
      "text/plain": [
       "                  categories  count\n",
       "0                    Fiction   2111\n",
       "1           Juvenile Fiction    390\n",
       "2  Biography & Autobiography    311\n",
       "3                    History    207\n",
       "4         Literary Criticism    124"
      ]
     },
     "execution_count": 2,
     "metadata": {},
     "output_type": "execute_result"
    }
   ],
   "source": [
    "books['categories'].value_counts().reset_index().head()"
   ]
  },
  {
   "cell_type": "code",
   "execution_count": 3,
   "id": "92b691da",
   "metadata": {},
   "outputs": [
    {
     "data": {
      "text/html": [
       "<div>\n",
       "<style scoped>\n",
       "    .dataframe tbody tr th:only-of-type {\n",
       "        vertical-align: middle;\n",
       "    }\n",
       "\n",
       "    .dataframe tbody tr th {\n",
       "        vertical-align: top;\n",
       "    }\n",
       "\n",
       "    .dataframe thead th {\n",
       "        text-align: right;\n",
       "    }\n",
       "</style>\n",
       "<table border=\"1\" class=\"dataframe\">\n",
       "  <thead>\n",
       "    <tr style=\"text-align: right;\">\n",
       "      <th></th>\n",
       "      <th>categories</th>\n",
       "      <th>count</th>\n",
       "    </tr>\n",
       "  </thead>\n",
       "  <tbody>\n",
       "    <tr>\n",
       "      <th>0</th>\n",
       "      <td>Fiction</td>\n",
       "      <td>2111</td>\n",
       "    </tr>\n",
       "    <tr>\n",
       "      <th>1</th>\n",
       "      <td>Juvenile Fiction</td>\n",
       "      <td>390</td>\n",
       "    </tr>\n",
       "    <tr>\n",
       "      <th>2</th>\n",
       "      <td>Biography &amp; Autobiography</td>\n",
       "      <td>311</td>\n",
       "    </tr>\n",
       "    <tr>\n",
       "      <th>3</th>\n",
       "      <td>History</td>\n",
       "      <td>207</td>\n",
       "    </tr>\n",
       "    <tr>\n",
       "      <th>4</th>\n",
       "      <td>Literary Criticism</td>\n",
       "      <td>124</td>\n",
       "    </tr>\n",
       "    <tr>\n",
       "      <th>5</th>\n",
       "      <td>Religion</td>\n",
       "      <td>117</td>\n",
       "    </tr>\n",
       "    <tr>\n",
       "      <th>6</th>\n",
       "      <td>Philosophy</td>\n",
       "      <td>117</td>\n",
       "    </tr>\n",
       "    <tr>\n",
       "      <th>7</th>\n",
       "      <td>Comics &amp; Graphic Novels</td>\n",
       "      <td>116</td>\n",
       "    </tr>\n",
       "    <tr>\n",
       "      <th>8</th>\n",
       "      <td>Drama</td>\n",
       "      <td>86</td>\n",
       "    </tr>\n",
       "    <tr>\n",
       "      <th>9</th>\n",
       "      <td>Juvenile Nonfiction</td>\n",
       "      <td>57</td>\n",
       "    </tr>\n",
       "    <tr>\n",
       "      <th>10</th>\n",
       "      <td>Science</td>\n",
       "      <td>56</td>\n",
       "    </tr>\n",
       "    <tr>\n",
       "      <th>11</th>\n",
       "      <td>Poetry</td>\n",
       "      <td>51</td>\n",
       "    </tr>\n",
       "  </tbody>\n",
       "</table>\n",
       "</div>"
      ],
      "text/plain": [
       "                   categories  count\n",
       "0                     Fiction   2111\n",
       "1            Juvenile Fiction    390\n",
       "2   Biography & Autobiography    311\n",
       "3                     History    207\n",
       "4          Literary Criticism    124\n",
       "5                    Religion    117\n",
       "6                  Philosophy    117\n",
       "7     Comics & Graphic Novels    116\n",
       "8                       Drama     86\n",
       "9         Juvenile Nonfiction     57\n",
       "10                    Science     56\n",
       "11                     Poetry     51"
      ]
     },
     "execution_count": 3,
     "metadata": {},
     "output_type": "execute_result"
    }
   ],
   "source": [
    "books['categories'].value_counts().reset_index().query(\"count > 50\")"
   ]
  },
  {
   "cell_type": "code",
   "execution_count": 4,
   "id": "63be1cc9",
   "metadata": {},
   "outputs": [
    {
     "data": {
      "text/html": [
       "<div>\n",
       "<style scoped>\n",
       "    .dataframe tbody tr th:only-of-type {\n",
       "        vertical-align: middle;\n",
       "    }\n",
       "\n",
       "    .dataframe tbody tr th {\n",
       "        vertical-align: top;\n",
       "    }\n",
       "\n",
       "    .dataframe thead th {\n",
       "        text-align: right;\n",
       "    }\n",
       "</style>\n",
       "<table border=\"1\" class=\"dataframe\">\n",
       "  <thead>\n",
       "    <tr style=\"text-align: right;\">\n",
       "      <th></th>\n",
       "      <th>isbn13</th>\n",
       "      <th>isbn10</th>\n",
       "      <th>title</th>\n",
       "      <th>authors</th>\n",
       "      <th>categories</th>\n",
       "      <th>thumbnail</th>\n",
       "      <th>description</th>\n",
       "      <th>published_year</th>\n",
       "      <th>average_rating</th>\n",
       "      <th>num_pages</th>\n",
       "      <th>ratings_count</th>\n",
       "      <th>title_and_subtitle</th>\n",
       "      <th>tagged_description</th>\n",
       "    </tr>\n",
       "  </thead>\n",
       "  <tbody>\n",
       "    <tr>\n",
       "      <th>107</th>\n",
       "      <td>9780060277406</td>\n",
       "      <td>0060277408</td>\n",
       "      <td>The Secret Garden Cookbook</td>\n",
       "      <td>Amy Cotler</td>\n",
       "      <td>Juvenile Nonfiction</td>\n",
       "      <td>http://books.google.com/books/content?id=c7E_H...</td>\n",
       "      <td>Frances Hodgson Burnett's The Secret Garden de...</td>\n",
       "      <td>1999.0</td>\n",
       "      <td>4.28</td>\n",
       "      <td>128.0</td>\n",
       "      <td>142.0</td>\n",
       "      <td>The Secret Garden Cookbook: Recipes Inspired b...</td>\n",
       "      <td>9780060277406 Frances Hodgson Burnett's The Se...</td>\n",
       "    </tr>\n",
       "    <tr>\n",
       "      <th>108</th>\n",
       "      <td>9780060278427</td>\n",
       "      <td>0060278420</td>\n",
       "      <td>Laura's Album</td>\n",
       "      <td>William Anderson</td>\n",
       "      <td>Juvenile Nonfiction</td>\n",
       "      <td>http://books.google.com/books/content?id=_zTkq...</td>\n",
       "      <td>Though best known as the author of the Little ...</td>\n",
       "      <td>1998.0</td>\n",
       "      <td>4.30</td>\n",
       "      <td>80.0</td>\n",
       "      <td>713.0</td>\n",
       "      <td>Laura's Album: A Remembrance Scrapbook of Laur...</td>\n",
       "      <td>9780060278427 Though best known as the author ...</td>\n",
       "    </tr>\n",
       "  </tbody>\n",
       "</table>\n",
       "</div>"
      ],
      "text/plain": [
       "            isbn13      isbn10                       title           authors  \\\n",
       "107  9780060277406  0060277408  The Secret Garden Cookbook        Amy Cotler   \n",
       "108  9780060278427  0060278420               Laura's Album  William Anderson   \n",
       "\n",
       "              categories                                          thumbnail  \\\n",
       "107  Juvenile Nonfiction  http://books.google.com/books/content?id=c7E_H...   \n",
       "108  Juvenile Nonfiction  http://books.google.com/books/content?id=_zTkq...   \n",
       "\n",
       "                                           description  published_year  \\\n",
       "107  Frances Hodgson Burnett's The Secret Garden de...          1999.0   \n",
       "108  Though best known as the author of the Little ...          1998.0   \n",
       "\n",
       "     average_rating  num_pages  ratings_count  \\\n",
       "107            4.28      128.0          142.0   \n",
       "108            4.30       80.0          713.0   \n",
       "\n",
       "                                    title_and_subtitle  \\\n",
       "107  The Secret Garden Cookbook: Recipes Inspired b...   \n",
       "108  Laura's Album: A Remembrance Scrapbook of Laur...   \n",
       "\n",
       "                                    tagged_description  \n",
       "107  9780060277406 Frances Hodgson Burnett's The Se...  \n",
       "108  9780060278427 Though best known as the author ...  "
      ]
     },
     "execution_count": 4,
     "metadata": {},
     "output_type": "execute_result"
    }
   ],
   "source": [
    "books[books['categories']==\"Juvenile Nonfiction\"].head(2)"
   ]
  },
  {
   "cell_type": "code",
   "execution_count": 29,
   "id": "0a588d81",
   "metadata": {},
   "outputs": [],
   "source": [
    "category_mapping = {\n",
    "    \"Fiction\": \"Fiction\",\n",
    "    \"Juvenile Fiction\": \"Children's Fiction\",\n",
    "    \"Biography & Autobiography\": \"NonFiction\",\n",
    "    \"History\": \"NonFiction\",\n",
    "    \"Literary Criticism\": \"NonFiction\",\n",
    "    \"Philosophy\": \"NonFiction\",\n",
    "    \"Religion\": \"NonFiction\",\n",
    "    \"Comics & Graphic Novels\": \"Fiction\",\n",
    "    \"Drama\": \"Fiction\",\n",
    "    \"Juvenile Nonfiction\": \"Children's Nonfiction\",\n",
    "    \"Science\": \"Nonfiction\",\n",
    "    \"Poetry\": \"Fiction\",\n",
    "}"
   ]
  },
  {
   "cell_type": "code",
   "execution_count": 30,
   "id": "5dfc1219",
   "metadata": {},
   "outputs": [
    {
     "data": {
      "text/html": [
       "<div>\n",
       "<style scoped>\n",
       "    .dataframe tbody tr th:only-of-type {\n",
       "        vertical-align: middle;\n",
       "    }\n",
       "\n",
       "    .dataframe tbody tr th {\n",
       "        vertical-align: top;\n",
       "    }\n",
       "\n",
       "    .dataframe thead th {\n",
       "        text-align: right;\n",
       "    }\n",
       "</style>\n",
       "<table border=\"1\" class=\"dataframe\">\n",
       "  <thead>\n",
       "    <tr style=\"text-align: right;\">\n",
       "      <th></th>\n",
       "      <th>categories</th>\n",
       "      <th>simple_categories</th>\n",
       "    </tr>\n",
       "  </thead>\n",
       "  <tbody>\n",
       "    <tr>\n",
       "      <th>0</th>\n",
       "      <td>Fiction</td>\n",
       "      <td>Fiction</td>\n",
       "    </tr>\n",
       "    <tr>\n",
       "      <th>1</th>\n",
       "      <td>Detective and mystery stories</td>\n",
       "      <td>NaN</td>\n",
       "    </tr>\n",
       "    <tr>\n",
       "      <th>2</th>\n",
       "      <td>Fiction</td>\n",
       "      <td>Fiction</td>\n",
       "    </tr>\n",
       "    <tr>\n",
       "      <th>3</th>\n",
       "      <td>Christian life</td>\n",
       "      <td>NaN</td>\n",
       "    </tr>\n",
       "    <tr>\n",
       "      <th>4</th>\n",
       "      <td>Christian life</td>\n",
       "      <td>NaN</td>\n",
       "    </tr>\n",
       "  </tbody>\n",
       "</table>\n",
       "</div>"
      ],
      "text/plain": [
       "                      categories simple_categories\n",
       "0                        Fiction           Fiction\n",
       "1  Detective and mystery stories               NaN\n",
       "2                        Fiction           Fiction\n",
       "3                 Christian life               NaN\n",
       "4                 Christian life               NaN"
      ]
     },
     "execution_count": 30,
     "metadata": {},
     "output_type": "execute_result"
    }
   ],
   "source": [
    "books['simple_categories'] = books['categories'].map(category_mapping)\n",
    "books[['categories','simple_categories']].head()"
   ]
  },
  {
   "cell_type": "code",
   "execution_count": 31,
   "id": "304f9600",
   "metadata": {},
   "outputs": [
    {
     "data": {
      "text/plain": [
       "(3743, 14)"
      ]
     },
     "execution_count": 31,
     "metadata": {},
     "output_type": "execute_result"
    }
   ],
   "source": [
    "books[~books['simple_categories'].isna()].shape"
   ]
  },
  {
   "cell_type": "code",
   "execution_count": 62,
   "id": "098d5541",
   "metadata": {},
   "outputs": [
    {
     "name": "stderr",
     "output_type": "stream",
     "text": [
      "Device set to use cpu\n"
     ]
    }
   ],
   "source": [
    "from transformers import pipeline\n",
    "\n",
    "fiction_categories = [\"Fiction\", \"Nonfiction\"]\n",
    "\n",
    "pipe = pipeline(\"zero-shot-classification\", model=\"facebook/bart-large-mnli\", device=1)"
   ]
  },
  {
   "cell_type": "code",
   "execution_count": 32,
   "id": "ddfa25fd",
   "metadata": {},
   "outputs": [],
   "source": [
    "sequence = books.loc[books[\"simple_categories\"] == \"Fiction\", \"description\"].reset_index(drop=True)[0]"
   ]
  },
  {
   "cell_type": "code",
   "execution_count": 26,
   "id": "309e74bb",
   "metadata": {},
   "outputs": [
    {
     "data": {
      "text/plain": [
       "{'sequence': 'A NOVEL THAT READERS and critics have been eagerly anticipating for over a decade, Gilead is an astonishingly imagined story of remarkable lives. John Ames is a preacher, the son of a preacher and the grandson (both maternal and paternal) of preachers. It’s 1956 in Gilead, Iowa, towards the end of the Reverend Ames’s life, and he is absorbed in recording his family’s story, a legacy for the young son he will never see grow up. Haunted by his grandfather’s presence, John tells of the rift between his grandfather and his father: the elder, an angry visionary who fought for the abolitionist cause, and his son, an ardent pacifist. He is troubled, too, by his prodigal namesake, Jack (John Ames) Boughton, his best friend’s lost son who returns to Gilead searching for forgiveness and redemption. Told in John Ames’s joyous, rambling voice that finds beauty, humour and truth in the smallest of life’s details, Gilead is a song of celebration and acceptance of the best and the worst the world has to offer. At its heart is a tale of the sacred bonds between fathers and sons, pitch-perfect in style and story, set to dazzle critics and readers alike.',\n",
       " 'labels': ['Fiction', 'Nonfiction'],\n",
       " 'scores': [0.8438261151313782, 0.1561739146709442]}"
      ]
     },
     "execution_count": 26,
     "metadata": {},
     "output_type": "execute_result"
    }
   ],
   "source": [
    "pipe(sequence, fiction_categories)"
   ]
  },
  {
   "cell_type": "code",
   "execution_count": 40,
   "id": "f1d74819",
   "metadata": {},
   "outputs": [],
   "source": [
    "max_index = np.argmax(pipe(sequence, fiction_categories)['scores'])\n",
    "max_label = pipe(sequence, fiction_categories)['labels'][max_index]"
   ]
  },
  {
   "cell_type": "code",
   "execution_count": 50,
   "id": "7bb5376d",
   "metadata": {},
   "outputs": [],
   "source": [
    "def generate_predictions(sequence, categories):\n",
    "    predictions = pipe(sequence, categories)\n",
    "    max_index = np.argmax(predictions['scores'])\n",
    "    max_label = predictions['labels'][max_index] \n",
    "    return max_label"
   ]
  },
  {
   "cell_type": "code",
   "execution_count": null,
   "id": "dd0f4b52",
   "metadata": {},
   "outputs": [
    {
     "name": "stderr",
     "output_type": "stream",
     "text": [
      "100%|██████████| 300/300 [07:57<00:00,  1.59s/it]\n"
     ]
    }
   ],
   "source": [
    "from tqdm import tqdm\n",
    "\n",
    "actual_cats = []\n",
    "predicted_cats = []\n",
    "\n",
    "for i in tqdm(range(0, 300)):\n",
    "    sequence = books.loc[books[\"simple_categories\"] == \"Fiction\", \"description\"].reset_index(drop=True)[i]\n",
    "    predicted_cats += generate_predictions(sequence, fiction_categories)\n",
    "    actual_cats += [\"Fiction\"]"
   ]
  },
  {
   "cell_type": "code",
   "execution_count": null,
   "id": "2e1df64d",
   "metadata": {},
   "outputs": [],
   "source": [
    "for i in tqdm(range(0, 300)):\n",
    "    sequence = books.loc[books[\"simple_categories\"] == \"Nonfiction\", \"description\"].reset_index(drop=True)[i]\n",
    "    predicted_cats += generate_predictions(sequence, fiction_categories)\n",
    "    actual_cats += [\"Nonfiction\"]"
   ]
  },
  {
   "cell_type": "code",
   "execution_count": 63,
   "id": "c0f4bc2a",
   "metadata": {},
   "outputs": [
    {
     "data": {
      "text/plain": [
       "[]"
      ]
     },
     "execution_count": 63,
     "metadata": {},
     "output_type": "execute_result"
    }
   ],
   "source": [
    "predicted_cats"
   ]
  }
 ],
 "metadata": {
  "kernelspec": {
   "display_name": "venv",
   "language": "python",
   "name": "python3"
  },
  "language_info": {
   "codemirror_mode": {
    "name": "ipython",
    "version": 3
   },
   "file_extension": ".py",
   "mimetype": "text/x-python",
   "name": "python",
   "nbconvert_exporter": "python",
   "pygments_lexer": "ipython3",
   "version": "3.10.0"
  }
 },
 "nbformat": 4,
 "nbformat_minor": 5
}
